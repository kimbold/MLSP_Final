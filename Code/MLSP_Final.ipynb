{
  "nbformat": 4,
  "nbformat_minor": 0,
  "metadata": {
    "colab": {
      "name": "MLSP_Final.ipynb",
      "provenance": [],
      "collapsed_sections": []
    },
    "kernelspec": {
      "name": "python3",
      "display_name": "Python 3"
    },
    "accelerator": "GPU"
  },
  "cells": [
    {
      "cell_type": "markdown",
      "metadata": {
        "id": "mFEuH1bdTcaC",
        "colab_type": "text"
      },
      "source": [
        "**Install Paddle Paddle**\n",
        "\n",
        "Official website: https://www.paddlepaddle.org.cn/\n",
        "\n",
        "Github repo from paper: https://github.com/XinJCheng/CSPN/tree/master/cspn_paddle\n"
      ]
    },
    {
      "cell_type": "code",
      "metadata": {
        "id": "fo3MkYxrf4gE",
        "colab_type": "code",
        "outputId": "0a15e15a-366e-45b7-c15b-ab711cb1eb96",
        "colab": {
          "base_uri": "https://localhost:8080/",
          "height": 158
        }
      },
      "source": [
        "!pip install gdown"
      ],
      "execution_count": 13,
      "outputs": [
        {
          "output_type": "stream",
          "text": [
            "Requirement already satisfied: gdown in /usr/local/lib/python3.6/dist-packages (3.6.4)\n",
            "Requirement already satisfied: requests in /usr/local/lib/python3.6/dist-packages (from gdown) (2.21.0)\n",
            "Requirement already satisfied: tqdm in /usr/local/lib/python3.6/dist-packages (from gdown) (4.28.1)\n",
            "Requirement already satisfied: six in /usr/local/lib/python3.6/dist-packages (from gdown) (1.12.0)\n",
            "Requirement already satisfied: idna<2.9,>=2.5 in /usr/local/lib/python3.6/dist-packages (from requests->gdown) (2.8)\n",
            "Requirement already satisfied: urllib3<1.25,>=1.21.1 in /usr/local/lib/python3.6/dist-packages (from requests->gdown) (1.24.3)\n",
            "Requirement already satisfied: certifi>=2017.4.17 in /usr/local/lib/python3.6/dist-packages (from requests->gdown) (2019.9.11)\n",
            "Requirement already satisfied: chardet<3.1.0,>=3.0.2 in /usr/local/lib/python3.6/dist-packages (from requests->gdown) (3.0.4)\n"
          ],
          "name": "stdout"
        }
      ]
    },
    {
      "cell_type": "code",
      "metadata": {
        "id": "BIJGbAjMf1n4",
        "colab_type": "code",
        "outputId": "d523ea7c-7fc9-4fe5-9a21-947ebaf501ef",
        "colab": {
          "base_uri": "https://localhost:8080/",
          "height": 87
        }
      },
      "source": [
        "!gdown https://drive.google.com/uc?id=1YqkbflmadV_dLuKcpMlqoy-5mCrKmWDy"
      ],
      "execution_count": 14,
      "outputs": [
        {
          "output_type": "stream",
          "text": [
            "Downloading...\n",
            "From: https://drive.google.com/uc?id=1YqkbflmadV_dLuKcpMlqoy-5mCrKmWDy\n",
            "To: /content/CSPN/cspn_paddle/paddlepaddle_gpu-0.0.0-cp36-cp36m-linux_x86_64.whl\n",
            "149MB [00:00, 171MB/s]\n"
          ],
          "name": "stdout"
        }
      ]
    },
    {
      "cell_type": "code",
      "metadata": {
        "id": "4QQle9a9hON7",
        "colab_type": "code",
        "colab": {
          "base_uri": "https://localhost:8080/",
          "height": 34
        },
        "outputId": "2b1eb54a-e250-4c86-fc19-83b07d01fd68"
      },
      "source": [
        "!dir"
      ],
      "execution_count": 15,
      "outputs": [
        {
          "output_type": "stream",
          "text": [
            "demo.py  paddlepaddle_gpu-0.0.0-cp36-cp36m-linux_x86_64.whl  README.md\n"
          ],
          "name": "stdout"
        }
      ]
    },
    {
      "cell_type": "code",
      "metadata": {
        "id": "54IFlYDGei2T",
        "colab_type": "code",
        "colab": {
          "base_uri": "https://localhost:8080/",
          "height": 512
        },
        "outputId": "68449593-fe39-42d1-fdac-a4e8b95ac68a"
      },
      "source": [
        "!python -m pip install paddlepaddle_gpu-0.0.0-cp36-cp36m-linux_x86_64.whl"
      ],
      "execution_count": 16,
      "outputs": [
        {
          "output_type": "stream",
          "text": [
            "Requirement already satisfied: paddlepaddle-gpu==0.0.0 from file:///content/CSPN/cspn_paddle/paddlepaddle_gpu-0.0.0-cp36-cp36m-linux_x86_64.whl in /usr/local/lib/python3.6/dist-packages (0.0.0)\n",
            "Requirement already satisfied: funcsigs in /usr/local/lib/python3.6/dist-packages (from paddlepaddle-gpu==0.0.0) (1.0.2)\n",
            "Requirement already satisfied: pyyaml in /usr/local/lib/python3.6/dist-packages (from paddlepaddle-gpu==0.0.0) (3.13)\n",
            "Requirement already satisfied: matplotlib in /usr/local/lib/python3.6/dist-packages (from paddlepaddle-gpu==0.0.0) (3.1.1)\n",
            "Requirement already satisfied: scipy in /usr/local/lib/python3.6/dist-packages (from paddlepaddle-gpu==0.0.0) (1.3.2)\n",
            "Requirement already satisfied: graphviz in /usr/local/lib/python3.6/dist-packages (from paddlepaddle-gpu==0.0.0) (0.10.1)\n",
            "Requirement already satisfied: nltk<=3.4,>=3.2.2 in /usr/local/lib/python3.6/dist-packages (from paddlepaddle-gpu==0.0.0) (3.2.5)\n",
            "Requirement already satisfied: prettytable in /usr/local/lib/python3.6/dist-packages (from paddlepaddle-gpu==0.0.0) (0.7.2)\n",
            "Requirement already satisfied: protobuf>=3.1.0 in /usr/local/lib/python3.6/dist-packages (from paddlepaddle-gpu==0.0.0) (3.10.0)\n",
            "Requirement already satisfied: recordio>=0.1.0 in /usr/local/lib/python3.6/dist-packages (from paddlepaddle-gpu==0.0.0) (0.1.7)\n",
            "Requirement already satisfied: opencv-python in /usr/local/lib/python3.6/dist-packages (from paddlepaddle-gpu==0.0.0) (3.4.7.28)\n",
            "Requirement already satisfied: six in /usr/local/lib/python3.6/dist-packages (from paddlepaddle-gpu==0.0.0) (1.12.0)\n",
            "Requirement already satisfied: numpy>=1.12 in /usr/local/lib/python3.6/dist-packages (from paddlepaddle-gpu==0.0.0) (1.17.4)\n",
            "Requirement already satisfied: Pillow in /usr/local/lib/python3.6/dist-packages (from paddlepaddle-gpu==0.0.0) (4.3.0)\n",
            "Requirement already satisfied: decorator in /usr/local/lib/python3.6/dist-packages (from paddlepaddle-gpu==0.0.0) (4.4.1)\n",
            "Requirement already satisfied: rarfile in /usr/local/lib/python3.6/dist-packages (from paddlepaddle-gpu==0.0.0) (3.1)\n",
            "Requirement already satisfied: requests>=2.20.0 in /usr/local/lib/python3.6/dist-packages (from paddlepaddle-gpu==0.0.0) (2.21.0)\n",
            "Requirement already satisfied: cycler>=0.10 in /usr/local/lib/python3.6/dist-packages (from matplotlib->paddlepaddle-gpu==0.0.0) (0.10.0)\n",
            "Requirement already satisfied: python-dateutil>=2.1 in /usr/local/lib/python3.6/dist-packages (from matplotlib->paddlepaddle-gpu==0.0.0) (2.6.1)\n",
            "Requirement already satisfied: pyparsing!=2.0.4,!=2.1.2,!=2.1.6,>=2.0.1 in /usr/local/lib/python3.6/dist-packages (from matplotlib->paddlepaddle-gpu==0.0.0) (2.4.5)\n",
            "Requirement already satisfied: kiwisolver>=1.0.1 in /usr/local/lib/python3.6/dist-packages (from matplotlib->paddlepaddle-gpu==0.0.0) (1.1.0)\n",
            "Requirement already satisfied: setuptools in /usr/local/lib/python3.6/dist-packages (from protobuf>=3.1.0->paddlepaddle-gpu==0.0.0) (41.6.0)\n",
            "Requirement already satisfied: olefile in /usr/local/lib/python3.6/dist-packages (from Pillow->paddlepaddle-gpu==0.0.0) (0.46)\n",
            "Requirement already satisfied: idna<2.9,>=2.5 in /usr/local/lib/python3.6/dist-packages (from requests>=2.20.0->paddlepaddle-gpu==0.0.0) (2.8)\n",
            "Requirement already satisfied: chardet<3.1.0,>=3.0.2 in /usr/local/lib/python3.6/dist-packages (from requests>=2.20.0->paddlepaddle-gpu==0.0.0) (3.0.4)\n",
            "Requirement already satisfied: certifi>=2017.4.17 in /usr/local/lib/python3.6/dist-packages (from requests>=2.20.0->paddlepaddle-gpu==0.0.0) (2019.9.11)\n",
            "Requirement already satisfied: urllib3<1.25,>=1.21.1 in /usr/local/lib/python3.6/dist-packages (from requests>=2.20.0->paddlepaddle-gpu==0.0.0) (1.24.3)\n"
          ],
          "name": "stdout"
        }
      ]
    },
    {
      "cell_type": "markdown",
      "metadata": {
        "id": "OWN3wvC7X9zO",
        "colab_type": "text"
      },
      "source": [
        "**Verify correct installation of paddle paddle**"
      ]
    },
    {
      "cell_type": "code",
      "metadata": {
        "id": "3rqdCdTRX-WG",
        "colab_type": "code",
        "colab": {
          "base_uri": "https://localhost:8080/",
          "height": 87
        },
        "outputId": "2cc40585-2928-45ce-8e17-40acf81b0f9d"
      },
      "source": [
        "import paddle.fluid\n",
        "paddle.fluid.install_check.run_check()"
      ],
      "execution_count": 17,
      "outputs": [
        {
          "output_type": "stream",
          "text": [
            "Running Verify Fluid Program ... \n",
            "Your Paddle Fluid works well on SINGLE GPU or CPU.\n",
            "Your Paddle Fluid works well on MUTIPLE GPU or CPU.\n",
            "Your Paddle Fluid is installed successfully! Let's start deep Learning with Paddle Fluid now\n"
          ],
          "name": "stdout"
        }
      ]
    },
    {
      "cell_type": "markdown",
      "metadata": {
        "id": "APe0dlvIS5cq",
        "colab_type": "text"
      },
      "source": [
        "**Clone CSPN github repository**"
      ]
    },
    {
      "cell_type": "code",
      "metadata": {
        "id": "pMgJrnAIS5uY",
        "colab_type": "code",
        "colab": {
          "base_uri": "https://localhost:8080/",
          "height": 158
        },
        "outputId": "3c18e9dd-d030-4cb3-93d5-a748f7899c2c"
      },
      "source": [
        "!git clone https://github.com/XinJCheng/CSPN.git\n",
        "%cd ./CSPN/cspn_paddle"
      ],
      "execution_count": 18,
      "outputs": [
        {
          "output_type": "stream",
          "text": [
            "Cloning into 'CSPN'...\n",
            "remote: Enumerating objects: 143, done.\u001b[K\n",
            "remote: Counting objects: 100% (143/143), done.\u001b[K\n",
            "remote: Compressing objects: 100% (92/92), done.\u001b[K\n",
            "remote: Total 211 (delta 78), reused 103 (delta 47), pack-reused 68\u001b[K\n",
            "Receiving objects: 100% (211/211), 304.01 KiB | 841.00 KiB/s, done.\n",
            "Resolving deltas: 100% (103/103), done.\n",
            "/content/CSPN/cspn_paddle/CSPN/cspn_paddle\n"
          ],
          "name": "stdout"
        }
      ]
    },
    {
      "cell_type": "markdown",
      "metadata": {
        "id": "-cuTeCkpTC36",
        "colab_type": "text"
      },
      "source": [
        "**Run the demo for 2d cspn module.**\n"
      ]
    },
    {
      "cell_type": "code",
      "metadata": {
        "id": "CNOQpVXWS9U1",
        "colab_type": "code",
        "colab": {
          "base_uri": "https://localhost:8080/",
          "height": 140
        },
        "outputId": "6c8511a5-8148-4277-dc45-0befe79292e1"
      },
      "source": [
        "!python demo.py --dimNum=2"
      ],
      "execution_count": 22,
      "outputs": [
        {
          "output_type": "stream",
          "text": [
            "WARNING: Do not have avx core. You may not build with AVX, but AVX is supported on local machine.\n",
            " You could build paddle WITH_AVX=ON to get better performance.\n",
            "The original error is: No module named 'paddle.fluid.core_avx'\n",
            "W1126 10:17:24.311373   436 init.cc:162] AVX is available, Please re-compile on local machine\n",
            "usage: demo.py [-h] [--dimNum {2,3}] [--featChan FEATCHAN] [--propKernel {3}]\n",
            "               [--propStep PROPSTEP]\n",
            "demo.py: error: argument --dimNum: invalid choice: '2' (choose from 2, 3)\n"
          ],
          "name": "stdout"
        }
      ]
    },
    {
      "cell_type": "markdown",
      "metadata": {
        "id": "ULR6zx2TZMgN",
        "colab_type": "text"
      },
      "source": [
        "**Run the demo for 3d cspn module.**"
      ]
    },
    {
      "cell_type": "code",
      "metadata": {
        "id": "QRRTi0UhZL25",
        "colab_type": "code",
        "colab": {
          "base_uri": "https://localhost:8080/",
          "height": 1000
        },
        "outputId": "ec0009fe-20a7-4038-845f-002650f2a00a"
      },
      "source": [
        "!python demo.py"
      ],
      "execution_count": 23,
      "outputs": [
        {
          "output_type": "stream",
          "text": [
            "WARNING: Do not have avx core. You may not build with AVX, but AVX is supported on local machine.\n",
            " You could build paddle WITH_AVX=ON to get better performance.\n",
            "The original error is: No module named 'paddle.fluid.core_avx'\n",
            "W1126 10:17:27.883081   450 init.cc:162] AVX is available, Please re-compile on local machine\n",
            "name: \"cspn_affinity_propagate.tmp_23\"\n",
            "type {\n",
            "  type: LOD_TENSOR\n",
            "  lod_tensor {\n",
            "    tensor {\n",
            "      data_type: FP32\n",
            "      dims: -1\n",
            "      dims: 1\n",
            "      dims: 48\n",
            "      dims: 64\n",
            "      dims: 128\n",
            "    }\n",
            "    lod_level: 0\n",
            "  }\n",
            "}\n",
            "persistable: false\n",
            "\n",
            "W1126 10:17:28.462036   450 device_context.cc:259] Please NOTE: device: 0, CUDA Capability: 37, Driver API Version: 10.1, Runtime API Version: 9.0\n",
            "W1126 10:17:28.465714   450 device_context.cc:267] device: 0, cuDNN Version: 7.6.\n",
            "An exception was thrown!\n",
            " Invoke operator fill_constant error.\n",
            "Python Callstacks: \n",
            "  File \"/usr/local/lib/python3.6/dist-packages/paddle/fluid/framework.py\", line 1844, in _prepend_op\n",
            "    attrs=kwargs.get(\"attrs\", None))\n",
            "  File \"/usr/local/lib/python3.6/dist-packages/paddle/fluid/initializer.py\", line 189, in __call__\n",
            "    stop_gradient=True)\n",
            "  File \"/usr/local/lib/python3.6/dist-packages/paddle/fluid/framework.py\", line 1627, in create_var\n",
            "    kwargs['initializer'](var, self)\n",
            "  File \"/usr/local/lib/python3.6/dist-packages/paddle/fluid/layer_helper_base.py\", line 383, in set_variable_initializer\n",
            "    initializer=initializer)\n",
            "  File \"/usr/local/lib/python3.6/dist-packages/paddle/fluid/layers/tensor.py\", line 142, in create_global_var\n",
            "    value=float(value), force_cpu=force_cpu))\n",
            "  File \"/usr/local/lib/python3.6/dist-packages/paddle/fluid/optimizer.py\", line 226, in _create_global_learning_rate\n",
            "    persistable=True)\n",
            "  File \"/usr/local/lib/python3.6/dist-packages/paddle/fluid/optimizer.py\", line 365, in _create_optimization_pass\n",
            "    self._create_global_learning_rate()\n",
            "  File \"/usr/local/lib/python3.6/dist-packages/paddle/fluid/optimizer.py\", line 532, in apply_gradients\n",
            "    optimize_ops = self._create_optimization_pass(params_grads)\n",
            "  File \"/usr/local/lib/python3.6/dist-packages/paddle/fluid/optimizer.py\", line 562, in apply_optimize\n",
            "    optimize_ops = self.apply_gradients(params_grads)\n",
            "  File \"/usr/local/lib/python3.6/dist-packages/paddle/fluid/optimizer.py\", line 601, in minimize\n",
            "    loss, startup_program=startup_program, params_grads=params_grads)\n",
            "  File \"/usr/local/lib/python3.6/dist-packages/paddle/fluid/dygraph/base.py\", line 86, in __impl__\n",
            "    return func(*args, **kwargs)\n",
            "  File \"/usr/local/lib/python3.6/dist-packages/paddle/fluid/wrapped_decorator.py\", line 25, in __impl__\n",
            "    return wrapped_func(*args, **kwargs)\n",
            "  File \"</usr/local/lib/python3.6/dist-packages/decorator.py:decorator-gen-20>\", line 2, in minimize\n",
            "  File \"demo.py\", line 75, in demo\n",
            "    optim.minimize(output)\n",
            "  File \"demo.py\", line 97, in <module>\n",
            "    MODULE.demo()\n",
            "C++ Callstacks: \n",
            "Enforce failed. Expected allocating <= available, but received allocating:10485338519 > available:1249705728.\n",
            "Insufficient GPU memory to allocation. at [/paddle/paddle/fluid/platform/gpu_info.cc:293]\n",
            "PaddlePaddle Call Stacks: \n",
            "0       0x7f746dfeb955p void paddle::platform::EnforceNotMet::Init<std::string>(std::string, char const*, int) + 357\n",
            "1       0x7f746dfebcb2p paddle::platform::EnforceNotMet::EnforceNotMet(std::string const&, char const*, int) + 82\n",
            "2       0x7f746fd6cbe9p paddle::platform::GpuMaxChunkSize() + 617\n",
            "3       0x7f746fc96064p\n",
            "4       0x7f74a9c1d827p\n",
            "5       0x7f746fc9650dp paddle::memory::legacy::GetGPUBuddyAllocator(int) + 109\n",
            "6       0x7f746fc96721p void* paddle::memory::legacy::Alloc<paddle::platform::CUDAPlace>(paddle::platform::CUDAPlace const&, unsigned long) + 33\n",
            "7       0x7f746fc96df5p paddle::memory::allocation::NaiveBestFitAllocator::AllocateImpl(unsigned long) + 405\n",
            "8       0x7f746fc91113p paddle::memory::allocation::AllocatorFacade::Alloc(boost::variant<paddle::platform::CUDAPlace, paddle::platform::CPUPlace, paddle::platform::CUDAPinnedPlace, boost::detail::variant::void_, boost::detail::variant::void_, boost::detail::variant::void_, boost::detail::variant::void_, boost::detail::variant::void_, boost::detail::variant::void_, boost::detail::variant::void_, boost::detail::variant::void_, boost::detail::variant::void_, boost::detail::variant::void_, boost::detail::variant::void_, boost::detail::variant::void_, boost::detail::variant::void_, boost::detail::variant::void_, boost::detail::variant::void_, boost::detail::variant::void_, boost::detail::variant::void_> const&, unsigned long) + 227\n",
            "9       0x7f746fc913bbp paddle::memory::allocation::AllocatorFacade::AllocShared(boost::variant<paddle::platform::CUDAPlace, paddle::platform::CPUPlace, paddle::platform::CUDAPinnedPlace, boost::detail::variant::void_, boost::detail::variant::void_, boost::detail::variant::void_, boost::detail::variant::void_, boost::detail::variant::void_, boost::detail::variant::void_, boost::detail::variant::void_, boost::detail::variant::void_, boost::detail::variant::void_, boost::detail::variant::void_, boost::detail::variant::void_, boost::detail::variant::void_, boost::detail::variant::void_, boost::detail::variant::void_, boost::detail::variant::void_, boost::detail::variant::void_, boost::detail::variant::void_> const&, unsigned long) + 27\n",
            "10      0x7f746f8fbd6cp paddle::memory::AllocShared(boost::variant<paddle::platform::CUDAPlace, paddle::platform::CPUPlace, paddle::platform::CUDAPinnedPlace, boost::detail::variant::void_, boost::detail::variant::void_, boost::detail::variant::void_, boost::detail::variant::void_, boost::detail::variant::void_, boost::detail::variant::void_, boost::detail::variant::void_, boost::detail::variant::void_, boost::detail::variant::void_, boost::detail::variant::void_, boost::detail::variant::void_, boost::detail::variant::void_, boost::detail::variant::void_, boost::detail::variant::void_, boost::detail::variant::void_, boost::detail::variant::void_, boost::detail::variant::void_> const&, unsigned long) + 44\n",
            "11      0x7f746fc69458p paddle::framework::Tensor::mutable_data(boost::variant<paddle::platform::CUDAPlace, paddle::platform::CPUPlace, paddle::platform::CUDAPinnedPlace, boost::detail::variant::void_, boost::detail::variant::void_, boost::detail::variant::void_, boost::detail::variant::void_, boost::detail::variant::void_, boost::detail::variant::void_, boost::detail::variant::void_, boost::detail::variant::void_, boost::detail::variant::void_, boost::detail::variant::void_, boost::detail::variant::void_, boost::detail::variant::void_, boost::detail::variant::void_, boost::detail::variant::void_, boost::detail::variant::void_, boost::detail::variant::void_, boost::detail::variant::void_>, paddle::framework::proto::VarType_Type, unsigned long) + 136\n",
            "12      0x7f746e38b994p paddle::operators::FillConstantKernel<float>::Compute(paddle::framework::ExecutionContext const&) const + 500\n",
            "13      0x7f746e38e8b0p std::_Function_handler<void (paddle::framework::ExecutionContext const&), paddle::framework::OpKernelRegistrarFunctor<paddle::platform::CUDAPlace, false, 0ul, paddle::operators::FillConstantKernel<float>, paddle::operators::FillConstantKernel<double>, paddle::operators::FillConstantKernel<long>, paddle::operators::FillConstantKernel<int>, paddle::operators::FillConstantKernel<paddle::platform::float16> >::operator()(char const*, char const*, int) const::{lambda(paddle::framework::ExecutionContext const&)#1}>::_M_invoke(std::_Any_data const&, paddle::framework::ExecutionContext const&) + 32\n",
            "14      0x7f746fc1776dp paddle::framework::OperatorWithKernel::RunImpl(paddle::framework::Scope const&, boost::variant<paddle::platform::CUDAPlace, paddle::platform::CPUPlace, paddle::platform::CUDAPinnedPlace, boost::detail::variant::void_, boost::detail::variant::void_, boost::detail::variant::void_, boost::detail::variant::void_, boost::detail::variant::void_, boost::detail::variant::void_, boost::detail::variant::void_, boost::detail::variant::void_, boost::detail::variant::void_, boost::detail::variant::void_, boost::detail::variant::void_, boost::detail::variant::void_, boost::detail::variant::void_, boost::detail::variant::void_, boost::detail::variant::void_, boost::detail::variant::void_, boost::detail::variant::void_> const&, paddle::framework::RuntimeContext*) const + 381\n",
            "15      0x7f746fc17dabp paddle::framework::OperatorWithKernel::RunImpl(paddle::framework::Scope const&, boost::variant<paddle::platform::CUDAPlace, paddle::platform::CPUPlace, paddle::platform::CUDAPinnedPlace, boost::detail::variant::void_, boost::detail::variant::void_, boost::detail::variant::void_, boost::detail::variant::void_, boost::detail::variant::void_, boost::detail::variant::void_, boost::detail::variant::void_, boost::detail::variant::void_, boost::detail::variant::void_, boost::detail::variant::void_, boost::detail::variant::void_, boost::detail::variant::void_, boost::detail::variant::void_, boost::detail::variant::void_, boost::detail::variant::void_, boost::detail::variant::void_, boost::detail::variant::void_> const&) const + 555\n",
            "16      0x7f746fc1521cp paddle::framework::OperatorBase::Run(paddle::framework::Scope const&, boost::variant<paddle::platform::CUDAPlace, paddle::platform::CPUPlace, paddle::platform::CUDAPinnedPlace, boost::detail::variant::void_, boost::detail::variant::void_, boost::detail::variant::void_, boost::detail::variant::void_, boost::detail::variant::void_, boost::detail::variant::void_, boost::detail::variant::void_, boost::detail::variant::void_, boost::detail::variant::void_, boost::detail::variant::void_, boost::detail::variant::void_, boost::detail::variant::void_, boost::detail::variant::void_, boost::detail::variant::void_, boost::detail::variant::void_, boost::detail::variant::void_, boost::detail::variant::void_> const&) + 300\n",
            "17      0x7f746e15a216p paddle::framework::Executor::RunPreparedContext(paddle::framework::ExecutorPrepareContext*, paddle::framework::Scope*, bool, bool, bool) + 438\n",
            "18      0x7f746e15cdc4p paddle::framework::Executor::Run(paddle::framework::ProgramDesc const&, paddle::framework::Scope*, int, bool, bool, std::vector<std::string, std::allocator<std::string> > const&, bool) + 132\n",
            "19      0x7f746dfddae3p\n",
            "20      0x7f746e01bb54p\n",
            "21            0x566fecp _PyCFunction_FastCallDict + 860\n",
            "22            0x50ab53p\n",
            "23            0x50c549p _PyEval_EvalFrameDefault + 1097\n",
            "24            0x5081d5p\n",
            "25            0x50a020p\n",
            "26            0x50aa1dp\n",
            "27            0x50d320p _PyEval_EvalFrameDefault + 4640\n",
            "28            0x5081d5p\n",
            "29            0x50a020p\n",
            "30            0x50aa1dp\n",
            "31            0x50d320p _PyEval_EvalFrameDefault + 4640\n",
            "32            0x5081d5p\n",
            "33            0x50a020p\n",
            "34            0x50aa1dp\n",
            "35            0x50c549p _PyEval_EvalFrameDefault + 1097\n",
            "36            0x5081d5p\n",
            "37            0x50a020p\n",
            "38            0x50aa1dp\n",
            "39            0x50c549p _PyEval_EvalFrameDefault + 1097\n",
            "40            0x5081d5p\n",
            "41            0x50b3a3p PyEval_EvalCode + 35\n",
            "42            0x635082p\n",
            "43            0x635137p PyRun_FileExFlags + 151\n",
            "44            0x6388efp PyRun_SimpleFileExFlags + 383\n",
            "45            0x639491p Py_Main + 1425\n",
            "46            0x4b0f60p main + 224\n",
            "47      0x7f74a9e4eb97p __libc_start_main + 231\n",
            "48            0x5b2eaap _start + 42\n",
            "\n",
            "Traceback (most recent call last):\n",
            "  File \"demo.py\", line 97, in <module>\n",
            "    MODULE.demo()\n",
            "  File \"demo.py\", line 79, in demo\n",
            "    exe.run(fluid.default_startup_program())\n",
            "  File \"/usr/local/lib/python3.6/dist-packages/paddle/fluid/executor.py\", line 644, in run\n",
            "    raise e\n",
            "  File \"/usr/local/lib/python3.6/dist-packages/paddle/fluid/executor.py\", line 640, in run\n",
            "    use_program_cache=use_program_cache)\n",
            "  File \"/usr/local/lib/python3.6/dist-packages/paddle/fluid/executor.py\", line 669, in _run_impl\n",
            "    use_program_cache=use_program_cache)\n",
            "  File \"/usr/local/lib/python3.6/dist-packages/paddle/fluid/executor.py\", line 766, in _run_program\n",
            "    exe.run(program.desc, scope, 0, True, True, fetch_var_name)\n",
            "paddle.fluid.core_noavx.EnforceNotMet: Invoke operator fill_constant error.\n",
            "Python Callstacks: \n",
            "  File \"/usr/local/lib/python3.6/dist-packages/paddle/fluid/framework.py\", line 1844, in _prepend_op\n",
            "    attrs=kwargs.get(\"attrs\", None))\n",
            "  File \"/usr/local/lib/python3.6/dist-packages/paddle/fluid/initializer.py\", line 189, in __call__\n",
            "    stop_gradient=True)\n",
            "  File \"/usr/local/lib/python3.6/dist-packages/paddle/fluid/framework.py\", line 1627, in create_var\n",
            "    kwargs['initializer'](var, self)\n",
            "  File \"/usr/local/lib/python3.6/dist-packages/paddle/fluid/layer_helper_base.py\", line 383, in set_variable_initializer\n",
            "    initializer=initializer)\n",
            "  File \"/usr/local/lib/python3.6/dist-packages/paddle/fluid/layers/tensor.py\", line 142, in create_global_var\n",
            "    value=float(value), force_cpu=force_cpu))\n",
            "  File \"/usr/local/lib/python3.6/dist-packages/paddle/fluid/optimizer.py\", line 226, in _create_global_learning_rate\n",
            "    persistable=True)\n",
            "  File \"/usr/local/lib/python3.6/dist-packages/paddle/fluid/optimizer.py\", line 365, in _create_optimization_pass\n",
            "    self._create_global_learning_rate()\n",
            "  File \"/usr/local/lib/python3.6/dist-packages/paddle/fluid/optimizer.py\", line 532, in apply_gradients\n",
            "    optimize_ops = self._create_optimization_pass(params_grads)\n",
            "  File \"/usr/local/lib/python3.6/dist-packages/paddle/fluid/optimizer.py\", line 562, in apply_optimize\n",
            "    optimize_ops = self.apply_gradients(params_grads)\n",
            "  File \"/usr/local/lib/python3.6/dist-packages/paddle/fluid/optimizer.py\", line 601, in minimize\n",
            "    loss, startup_program=startup_program, params_grads=params_grads)\n",
            "  File \"/usr/local/lib/python3.6/dist-packages/paddle/fluid/dygraph/base.py\", line 86, in __impl__\n",
            "    return func(*args, **kwargs)\n",
            "  File \"/usr/local/lib/python3.6/dist-packages/paddle/fluid/wrapped_decorator.py\", line 25, in __impl__\n",
            "    return wrapped_func(*args, **kwargs)\n",
            "  File \"</usr/local/lib/python3.6/dist-packages/decorator.py:decorator-gen-20>\", line 2, in minimize\n",
            "  File \"demo.py\", line 75, in demo\n",
            "    optim.minimize(output)\n",
            "  File \"demo.py\", line 97, in <module>\n",
            "    MODULE.demo()\n",
            "C++ Callstacks: \n",
            "Enforce failed. Expected allocating <= available, but received allocating:10485338519 > available:1249705728.\n",
            "Insufficient GPU memory to allocation. at [/paddle/paddle/fluid/platform/gpu_info.cc:293]\n",
            "PaddlePaddle Call Stacks: \n",
            "0       0x7f746dfeb955p void paddle::platform::EnforceNotMet::Init<std::string>(std::string, char const*, int) + 357\n",
            "1       0x7f746dfebcb2p paddle::platform::EnforceNotMet::EnforceNotMet(std::string const&, char const*, int) + 82\n",
            "2       0x7f746fd6cbe9p paddle::platform::GpuMaxChunkSize() + 617\n",
            "3       0x7f746fc96064p\n",
            "4       0x7f74a9c1d827p\n",
            "5       0x7f746fc9650dp paddle::memory::legacy::GetGPUBuddyAllocator(int) + 109\n",
            "6       0x7f746fc96721p void* paddle::memory::legacy::Alloc<paddle::platform::CUDAPlace>(paddle::platform::CUDAPlace const&, unsigned long) + 33\n",
            "7       0x7f746fc96df5p paddle::memory::allocation::NaiveBestFitAllocator::AllocateImpl(unsigned long) + 405\n",
            "8       0x7f746fc91113p paddle::memory::allocation::AllocatorFacade::Alloc(boost::variant<paddle::platform::CUDAPlace, paddle::platform::CPUPlace, paddle::platform::CUDAPinnedPlace, boost::detail::variant::void_, boost::detail::variant::void_, boost::detail::variant::void_, boost::detail::variant::void_, boost::detail::variant::void_, boost::detail::variant::void_, boost::detail::variant::void_, boost::detail::variant::void_, boost::detail::variant::void_, boost::detail::variant::void_, boost::detail::variant::void_, boost::detail::variant::void_, boost::detail::variant::void_, boost::detail::variant::void_, boost::detail::variant::void_, boost::detail::variant::void_, boost::detail::variant::void_> const&, unsigned long) + 227\n",
            "9       0x7f746fc913bbp paddle::memory::allocation::AllocatorFacade::AllocShared(boost::variant<paddle::platform::CUDAPlace, paddle::platform::CPUPlace, paddle::platform::CUDAPinnedPlace, boost::detail::variant::void_, boost::detail::variant::void_, boost::detail::variant::void_, boost::detail::variant::void_, boost::detail::variant::void_, boost::detail::variant::void_, boost::detail::variant::void_, boost::detail::variant::void_, boost::detail::variant::void_, boost::detail::variant::void_, boost::detail::variant::void_, boost::detail::variant::void_, boost::detail::variant::void_, boost::detail::variant::void_, boost::detail::variant::void_, boost::detail::variant::void_, boost::detail::variant::void_> const&, unsigned long) + 27\n",
            "10      0x7f746f8fbd6cp paddle::memory::AllocShared(boost::variant<paddle::platform::CUDAPlace, paddle::platform::CPUPlace, paddle::platform::CUDAPinnedPlace, boost::detail::variant::void_, boost::detail::variant::void_, boost::detail::variant::void_, boost::detail::variant::void_, boost::detail::variant::void_, boost::detail::variant::void_, boost::detail::variant::void_, boost::detail::variant::void_, boost::detail::variant::void_, boost::detail::variant::void_, boost::detail::variant::void_, boost::detail::variant::void_, boost::detail::variant::void_, boost::detail::variant::void_, boost::detail::variant::void_, boost::detail::variant::void_, boost::detail::variant::void_> const&, unsigned long) + 44\n",
            "11      0x7f746fc69458p paddle::framework::Tensor::mutable_data(boost::variant<paddle::platform::CUDAPlace, paddle::platform::CPUPlace, paddle::platform::CUDAPinnedPlace, boost::detail::variant::void_, boost::detail::variant::void_, boost::detail::variant::void_, boost::detail::variant::void_, boost::detail::variant::void_, boost::detail::variant::void_, boost::detail::variant::void_, boost::detail::variant::void_, boost::detail::variant::void_, boost::detail::variant::void_, boost::detail::variant::void_, boost::detail::variant::void_, boost::detail::variant::void_, boost::detail::variant::void_, boost::detail::variant::void_, boost::detail::variant::void_, boost::detail::variant::void_>, paddle::framework::proto::VarType_Type, unsigned long) + 136\n",
            "12      0x7f746e38b994p paddle::operators::FillConstantKernel<float>::Compute(paddle::framework::ExecutionContext const&) const + 500\n",
            "13      0x7f746e38e8b0p std::_Function_handler<void (paddle::framework::ExecutionContext const&), paddle::framework::OpKernelRegistrarFunctor<paddle::platform::CUDAPlace, false, 0ul, paddle::operators::FillConstantKernel<float>, paddle::operators::FillConstantKernel<double>, paddle::operators::FillConstantKernel<long>, paddle::operators::FillConstantKernel<int>, paddle::operators::FillConstantKernel<paddle::platform::float16> >::operator()(char const*, char const*, int) const::{lambda(paddle::framework::ExecutionContext const&)#1}>::_M_invoke(std::_Any_data const&, paddle::framework::ExecutionContext const&) + 32\n",
            "14      0x7f746fc1776dp paddle::framework::OperatorWithKernel::RunImpl(paddle::framework::Scope const&, boost::variant<paddle::platform::CUDAPlace, paddle::platform::CPUPlace, paddle::platform::CUDAPinnedPlace, boost::detail::variant::void_, boost::detail::variant::void_, boost::detail::variant::void_, boost::detail::variant::void_, boost::detail::variant::void_, boost::detail::variant::void_, boost::detail::variant::void_, boost::detail::variant::void_, boost::detail::variant::void_, boost::detail::variant::void_, boost::detail::variant::void_, boost::detail::variant::void_, boost::detail::variant::void_, boost::detail::variant::void_, boost::detail::variant::void_, boost::detail::variant::void_, boost::detail::variant::void_> const&, paddle::framework::RuntimeContext*) const + 381\n",
            "15      0x7f746fc17dabp paddle::framework::OperatorWithKernel::RunImpl(paddle::framework::Scope const&, boost::variant<paddle::platform::CUDAPlace, paddle::platform::CPUPlace, paddle::platform::CUDAPinnedPlace, boost::detail::variant::void_, boost::detail::variant::void_, boost::detail::variant::void_, boost::detail::variant::void_, boost::detail::variant::void_, boost::detail::variant::void_, boost::detail::variant::void_, boost::detail::variant::void_, boost::detail::variant::void_, boost::detail::variant::void_, boost::detail::variant::void_, boost::detail::variant::void_, boost::detail::variant::void_, boost::detail::variant::void_, boost::detail::variant::void_, boost::detail::variant::void_, boost::detail::variant::void_> const&) const + 555\n",
            "16      0x7f746fc1521cp paddle::framework::OperatorBase::Run(paddle::framework::Scope const&, boost::variant<paddle::platform::CUDAPlace, paddle::platform::CPUPlace, paddle::platform::CUDAPinnedPlace, boost::detail::variant::void_, boost::detail::variant::void_, boost::detail::variant::void_, boost::detail::variant::void_, boost::detail::variant::void_, boost::detail::variant::void_, boost::detail::variant::void_, boost::detail::variant::void_, boost::detail::variant::void_, boost::detail::variant::void_, boost::detail::variant::void_, boost::detail::variant::void_, boost::detail::variant::void_, boost::detail::variant::void_, boost::detail::variant::void_, boost::detail::variant::void_, boost::detail::variant::void_> const&) + 300\n",
            "17      0x7f746e15a216p paddle::framework::Executor::RunPreparedContext(paddle::framework::ExecutorPrepareContext*, paddle::framework::Scope*, bool, bool, bool) + 438\n",
            "18      0x7f746e15cdc4p paddle::framework::Executor::Run(paddle::framework::ProgramDesc const&, paddle::framework::Scope*, int, bool, bool, std::vector<std::string, std::allocator<std::string> > const&, bool) + 132\n",
            "19      0x7f746dfddae3p\n",
            "20      0x7f746e01bb54p\n",
            "21            0x566fecp _PyCFunction_FastCallDict + 860\n",
            "22            0x50ab53p\n",
            "23            0x50c549p _PyEval_EvalFrameDefault + 1097\n",
            "24            0x5081d5p\n",
            "25            0x50a020p\n",
            "26            0x50aa1dp\n",
            "27            0x50d320p _PyEval_EvalFrameDefault + 4640\n",
            "28            0x5081d5p\n",
            "29            0x50a020p\n",
            "30            0x50aa1dp\n",
            "31            0x50d320p _PyEval_EvalFrameDefault + 4640\n",
            "32            0x5081d5p\n",
            "33            0x50a020p\n",
            "34            0x50aa1dp\n",
            "35            0x50c549p _PyEval_EvalFrameDefault + 1097\n",
            "36            0x5081d5p\n",
            "37            0x50a020p\n",
            "38            0x50aa1dp\n",
            "39            0x50c549p _PyEval_EvalFrameDefault + 1097\n",
            "40            0x5081d5p\n",
            "41            0x50b3a3p PyEval_EvalCode + 35\n",
            "42            0x635082p\n",
            "43            0x635137p PyRun_FileExFlags + 151\n",
            "44            0x6388efp PyRun_SimpleFileExFlags + 383\n",
            "45            0x639491p Py_Main + 1425\n",
            "46            0x4b0f60p main + 224\n",
            "47      0x7f74a9e4eb97p __libc_start_main + 231\n",
            "48            0x5b2eaap _start + 42\n",
            "\n"
          ],
          "name": "stdout"
        }
      ]
    },
    {
      "cell_type": "code",
      "metadata": {
        "id": "rpQloiVdcwfe",
        "colab_type": "code",
        "colab": {}
      },
      "source": [
        ""
      ],
      "execution_count": 0,
      "outputs": []
    }
  ]
}